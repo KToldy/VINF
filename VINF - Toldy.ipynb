{
 "cells": [
  {
   "cell_type": "code",
   "execution_count": 1,
   "metadata": {},
   "outputs": [],
   "source": [
    "# Riesenie Kristian Toldy, Predmet: Vyhladavanie Informacii FIIT STU"
   ]
  },
  {
   "cell_type": "code",
   "execution_count": 8,
   "metadata": {},
   "outputs": [],
   "source": [
    "# Vypocet PageRanku\n",
    "import scipy as sp\n",
    "import scipy.sparse as sprs\n",
    "import scipy.spatial\n",
    "import scipy.sparse.linalg\n",
    "from scipy import sparse\n",
    "\n",
    "# Vstupy:\n",
    "# G - CSR graph linkov\n",
    "# D - Damping factor\n",
    "# max_iter - maximalny pocet iteracii\n",
    "# tolerancy -  Tolerianca ked uz convergujeme aby ukoncilo vykonavanie\n",
    "def pagerank(G, D, max_iter, tolerancy=1e-05):\n",
    "   \n",
    "\n",
    "    # n pocet prvkov v grafe\n",
    "    n, _ = G.shape\n",
    "    # Spocita pocet outgoing linkov z pagy v nasej CSR matici (pre kazdy riadok)\n",
    "    outgoing = sp.asarray(G.sum(axis=1)).reshape(-1)\n",
    "    # indexes - indexy ktore su nenulove, teda maju outgoing link\n",
    "    indexes = outgoing.nonzero()[0]\n",
    "    # Nova matica kde vydelim hodnotu outgoing linkov poctom linkov (cim viac tim mensi zasah ma stranka)\n",
    "    impact_csr = sprs.csr_matrix((1 / outgoing[indexes], (indexes, indexes)), shape=(n, n))\n",
    "\n",
    "    # Vytvorenie jednotkoveho vektora\n",
    "    ones = sp.ones(n) \n",
    "    ones = ones.reshape(n, 1)\n",
    "    \n",
    "    # a[np.newaxis, :] - > Pridanie dimenzie\n",
    "    # Riesenie dangling nodes (nemaju ziadne outgoing, \n",
    "    # inicializujeme tie co nemaju ziadne outgoing linky na (1-dump)/n a tie co maju maju dump/n\n",
    "    # Teoria - > ked neexistuje outgoing, tak mame nahodnu sancu otvorit akukolvek inu stranku (- dump)\n",
    "    jumps = (((1 - D) * (outgoing != 0) + (outgoing == 0)) / n)[sp.newaxis, :]\n",
    "    \n",
    "    # A.T otoci smer ukazovania, pojdeme po linkoch namiesto po pagoch\n",
    "    # W vypocita silu hrany (V podstate )\n",
    "    W = D * G.T @ impact_csr\n",
    "    \n",
    "    # X pole page rankov (Na zaciatok vsetky jedna)\n",
    "    x = ones\n",
    "    # oldX v predchadzajucej iteracii pagerank, na zaciatok same nuly\n",
    "    oldx = sp.zeros((n, 1))\n",
    "    \n",
    "    iteration = 0\n",
    "\n",
    "    while sp.linalg.norm(x - oldx) > tolerancy:\n",
    "        oldx = x\n",
    "        # Vypocet noveho pageranku pre vsetky page \n",
    "        x = W @ x + ones @ (jumps @ x)\n",
    "        iteration += 1\n",
    "        if iteration >= max_iter:\n",
    "            break\n",
    "    x = x / sum(x)\n",
    "\n",
    "    return x.reshape(-1)"
   ]
  },
  {
   "cell_type": "code",
   "execution_count": 3,
   "metadata": {},
   "outputs": [],
   "source": [
    "import xml.sax\n",
    "import re\n",
    "\n",
    "# Regex pattern zakladne linky\n",
    "pattern = \"\\[\\[(.*)\\]\\]\"\n",
    "\n",
    "# Streamovy parser XML dat\n",
    "class XMLHandler(xml.sax.ContentHandler):\n",
    "    def __init__(self):\n",
    "        self.CurrentData = \"\"\n",
    "        self.title = \"\"\n",
    "        self.id = \"\"\n",
    "        self.text = \"\"\n",
    "        \n",
    "        \n",
    "    def startElement(self, tag, attributes):\n",
    "        self.CurrentData = tag\n",
    "            \n",
    "    def endElement(self, tag):\n",
    "        #Vyskušame vždy pridať novú pagu do nášho dictionary (HashMapa)\n",
    "        if self.CurrentData == \"title\":\n",
    "            try:\n",
    "                if dict[self.title]:\n",
    "                    print(\"Duplicate found:\", self.title)\n",
    "            except KeyError:\n",
    "                dict[self.title] = len(dict)\n",
    "            list.append(self.title)\n",
    "#        elif self.CurrentData == \"text\":\n",
    "#            print(\"text: \", self.text)\n",
    "        elif self.CurrentData == \"text\":\n",
    "            if(re.search(pattern, self.text)):\n",
    "                links.append(self.title)\n",
    "                links.append(re.search(pattern, self.text).group(1))\n",
    "                #print(\"Link: \", re.search(pattern, self.text).group(1))\n",
    "                \n",
    "            \n",
    "        self.CurrentData = \"\"\n",
    "        \n",
    "    def characters(self, content):\n",
    "        if self.CurrentData == \"title\":\n",
    "            self.title = content\n",
    "        elif self.CurrentData == \"id\":\n",
    "            self.id = content\n",
    "        elif self.CurrentData == \"text\":\n",
    "            self.text = content\n",
    "#            if(re.search(pattern, self.text)):\n",
    "#                links.append(self.title)\n",
    "#                links.append(re.search(pattern, self.text).group(1))\n",
    "        \n",
    "if (__name__ == \"__main__\"):\n",
    "    parser = xml.sax.make_parser()\n",
    "    parser.setFeature(xml.sax.handler.feature_namespaces, 0)\n",
    "    Handler = XMLHandler()\n",
    "    parser.setContentHandler(Handler)\n",
    "    \n",
    "    \n",
    "    list = []  # < - Obsahuje zoznam pagov\n",
    "    links = [] # < - Obsahuje zoznam linkov vo formate x, x+1 kde je title page1 ukazujucu na page2\n",
    "    dict = {} # < - Hash mapa na rýchle nájdenie IDcka stranky podla title\n",
    "\n",
    "    \n",
    "    \n",
    "#    print(links)  "
   ]
  },
  {
   "cell_type": "code",
   "execution_count": 4,
   "metadata": {},
   "outputs": [
    {
     "name": "stdout",
     "output_type": "stream",
     "text": [
      "['MediaWiki:Developertext', 'MediaWiki:Commentedit', 'MediaWiki:Searchresulttext', 'Pomoc:Vyhľadávanie']\n"
     ]
    }
   ],
   "source": [
    "# Na mensej vzorke dat:\n",
    "# 10 pageov,\n",
    "# 1 validny link na ine page, 1 bez landingu\n",
    "list = []\n",
    "links = []\n",
    "dict = {}\n",
    "parser.parse(\"C:/Users/krist/Desktop/Fiit/Vyhladavanie informacii/Testovanie/wiki2.xml\")\n",
    "print(links)"
   ]
  },
  {
   "cell_type": "code",
   "execution_count": 6,
   "metadata": {},
   "outputs": [
    {
     "name": "stdout",
     "output_type": "stream",
     "text": [
      "Link nenajdeny: 9\n",
      "[[1 6]]\n"
     ]
    }
   ],
   "source": [
    "# Vygenerovanie numpy arrayu linkov kde menime link title na ID\n",
    "import numpy as np\n",
    "\n",
    "\n",
    "\n",
    "list2 = np.empty((0,2), int)\n",
    "for x in range(0, len(links),2):\n",
    "    try:\n",
    "        list2 = np.append(list2, np.array([[dict[links[x]], dict[links[x+1]]]]), axis=0)\n",
    "    except KeyError:\n",
    "        print(\"Link nenajdeny:\", dict[links[x]]) # < - Ak pagu nepozname na ktorú ukazuje dá nám chybu a v ktorej page sa chyba vyskytla\n",
    "\n",
    "print(list2)"
   ]
  },
  {
   "cell_type": "code",
   "execution_count": 9,
   "metadata": {},
   "outputs": [
    {
     "data": {
      "text/plain": [
       "array([0.0921659 , 0.0921659 , 0.0921659 , 0.0921659 , 0.0921659 ,\n",
       "       0.0921659 , 0.17050689, 0.0921659 , 0.0921659 , 0.0921659 ])"
      ]
     },
     "execution_count": 9,
     "metadata": {},
     "output_type": "execute_result"
    }
   ],
   "source": [
    "weights = [1] * len(list2)\n",
    "G = sparse.csr_matrix((weights, (list2[:,0], list2[:,1])), shape=(len(list), len(list)))\n",
    "rank=pagerank(G, D=0.85, max_iter=10)\n",
    "rank"
   ]
  },
  {
   "cell_type": "code",
   "execution_count": 18,
   "metadata": {},
   "outputs": [
    {
     "name": "stdout",
     "output_type": "stream",
     "text": [
      "Duplicate found:  City Line\n",
      "Duplicate found: B\n",
      "Duplicate found: Y\n",
      "Duplicate found: M\n",
      "Duplicate found: T\n",
      "Duplicate found:  Koch\n",
      "Duplicate found:  Conquer\n",
      "Duplicate found: W\n",
      "Duplicate found: \"\n",
      "Duplicate found: \"\n",
      "Duplicate found: \"\n",
      "Duplicate found:  The Stooges\n",
      "Duplicate found: Boca Juniors\n",
      "Duplicate found: M\n",
      "Duplicate found:  Bass\n",
      "Duplicate found:  Coach\n",
      "Duplicate found:  Bass\n",
      "Duplicate found:  Bass\n",
      "Duplicate found: 1966\n",
      "Duplicate found: \"\n",
      "Duplicate found:  Breeze\n",
      "Duplicate found:  Status\n",
      "Duplicate found:  Koch\n",
      "Duplicate found:  Status\n",
      "Duplicate found: \"\n",
      "Duplicate found:  the Banshees\n",
      "Duplicate found:  the Banshees\n",
      "Duplicate found: \"\n",
      "Duplicate found: \"\n",
      "Duplicate found: T\n",
      "Duplicate found:  Klement\n",
      "Duplicate found: \"\n",
      "Duplicate found:  Bassline Smith\n",
      "Duplicate found: B\n",
      "Duplicate found: B\n",
      "Duplicate found:  Futurebound\n",
      "Duplicate found:  Evans\n",
      "Duplicate found:  Status\n",
      "Duplicate found:  Spoon\n",
      "Duplicate found:  Krooked\n",
      "Duplicate found:  Co Beschläge\n",
      "Duplicate found:  KOS\n",
      "Duplicate found:  Years\n",
      "Duplicate found: T\n",
      "Duplicate found: John\n",
      "Duplicate found: T\n",
      "Duplicate found:  T\n",
      "Duplicate found: M\n",
      "Duplicate found: Čadca\n",
      "Duplicate found: ka\n",
      "Duplicate found:  the Papas\n",
      "Duplicate found: 4\n",
      "Duplicate found:  Sons\n",
      "Duplicate found:  Stimpy Show\n",
      "Duplicate found: B speváci\n",
      "Duplicate found: B hudobníci\n",
      "Duplicate found: B hudobníci\n",
      "Duplicate found: B speváci\n",
      "Duplicate found: B speváci\n",
      "Duplicate found: B hudobníci\n",
      "Duplicate found: B speváci\n",
      "Duplicate found: B hudobníci\n",
      "Duplicate found: B speváčky\n",
      "Duplicate found: B speváčky\n",
      "Duplicate found: B speváci\n",
      "Duplicate found: B hudobníci\n",
      "Duplicate found: B klaviristi\n",
      "Duplicate found: B speváčky\n",
      "Duplicate found: B speváci\n",
      "Duplicate found: B hudobníci\n",
      "Duplicate found: B speváčky\n",
      "Duplicate found: B speváci\n",
      "Duplicate found: B hudobníci\n",
      "Duplicate found: B speváčky\n",
      "Duplicate found: B speváci\n",
      "Duplicate found: B hudobníci\n",
      "Duplicate found: B speváčky\n",
      "Duplicate found: B speváčky\n",
      "Duplicate found: B klávesisti\n",
      "Duplicate found: B klávesisti\n",
      "Duplicate found: B gitaristi\n",
      "Duplicate found: B gitaristi\n",
      "Duplicate found: B speváčky\n",
      "Duplicate found: B speváci\n",
      "Duplicate found: B hudobníci\n",
      "Duplicate found: B speváci\n",
      "Duplicate found: B hudobníci\n",
      "Duplicate found: B gitaristi\n",
      "Duplicate found: B klávesisti\n",
      "Duplicate found: B bubeníci\n",
      "Duplicate found: B bubeníci\n",
      "Duplicate found: B speváčky\n",
      "Duplicate found: B gitaristi\n",
      "Duplicate found: B speváčky\n",
      "Duplicate found: B speváci\n",
      "Duplicate found: B hudobníci\n",
      "Duplicate found: B speváci\n",
      "Duplicate found: B hudobníci\n",
      "Duplicate found:  Barbara\n",
      "Duplicate found:  Vinz\n",
      "Duplicate found:  the Gang)\n",
      "Duplicate found:  the Gang\n",
      "Duplicate found:  Fire\n",
      "Duplicate found:  Oates\n",
      "Duplicate found: B album\n",
      "Duplicate found: Evita\n",
      "Duplicate found: B hudobné skupiny\n",
      "Duplicate found:  Dragons\n",
      "Duplicate found: M University\n",
      "Duplicate found: M University\n",
      "Duplicate found:  Co\n",
      "Duplicate found: D\n",
      "Duplicate found:  Sons\n",
      "Duplicate found: 3\n",
      "Start: 2020-11-24 08:27:57.427507\n",
      "[[     1      0]\n",
      " [    19  66563]\n",
      " [    65   1484]\n",
      " ...\n",
      " [417903 417902]\n",
      " [417905  78576]\n",
      " [417906 417904]]\n",
      "Koniec: 2020-11-24 08:30:02.815297\n"
     ]
    }
   ],
   "source": [
    "# Vygenerovanie numpy arrayu linkov kde menime link title na ID\n",
    "import numpy as np\n",
    "from datetime import datetime\n",
    "\n",
    "# Sem vlozte vas XML subor\n",
    "list = []\n",
    "links = []\n",
    "dict = {}\n",
    "parser.parse(\"C:/Users/krist/Desktop/Fiit/Vyhladavanie informacii/Testovanie/wiki.xml\")\n",
    "\n",
    "dateTimeObj = datetime.now()\n",
    "print(\"Start:\", dateTimeObj)\n",
    "\n",
    "list2 = np.empty((0,2), int)\n",
    "for x in range(0, len(links),2):\n",
    "    try:\n",
    "        list2 = np.append(list2, np.array([[dict[links[x]], dict[links[x+1]]]]), axis=0)\n",
    "    except KeyError:\n",
    "        pass\n",
    "        # Schovame vypis error duplikatov lebo vypis dlho trva\n",
    "        #print(\"Link nenajdeny:\", dict[links[x]]) # < - Ak pagu nepozname na ktorú ukazuje dá nám chybu a v ktorej page sa chyba vyskytla\n",
    "\n",
    "print(list2)\n",
    "dateTimeObj = datetime.now()\n",
    "print(\"Koniec:\", dateTimeObj)"
   ]
  },
  {
   "cell_type": "code",
   "execution_count": 19,
   "metadata": {},
   "outputs": [
    {
     "data": {
      "text/plain": [
       "array([3.69224055e-06, 1.03969957e-06, 1.03969957e-06, ...,\n",
       "       1.03969957e-06, 1.03969957e-06, 1.03969957e-06])"
      ]
     },
     "execution_count": 19,
     "metadata": {},
     "output_type": "execute_result"
    }
   ],
   "source": [
    "from scipy import sparse\n",
    "\n",
    "# List jednotiek, su to nase vahy linkov, vsetky maju rovnaku silu\n",
    "weights = [1] * len(list2)\n",
    "# csr_matrix((data, (row_ind, col_ind)), [shape=(M, N)])\n",
    "# where data, row_ind and col_ind satisfy the relationship a[row_ind[k], col_ind[k]] = data[k]\n",
    "# Shape musí obsahovať aj stranky bez odkazov, Len(list_stranok)\n",
    "G = sparse.csr_matrix((weights, (list2[:,0], list2[:,1])), shape=(len(list), len(list)))\n",
    "rank=pagerank(G, D=0.85, max_iter=10)\n",
    "rank"
   ]
  },
  {
   "cell_type": "code",
   "execution_count": 20,
   "metadata": {},
   "outputs": [
    {
     "data": {
      "text/plain": [
       "418027"
      ]
     },
     "execution_count": 20,
     "metadata": {},
     "output_type": "execute_result"
    }
   ],
   "source": [
    "len(list)\n",
    "# Statistika Slovenskej wiki: https://sk.wikipedia.org/wiki/%C5%A0peci%C3%A1lne:%C5%A0tatistika\n",
    "# Pocet pagov vo wiki:"
   ]
  },
  {
   "cell_type": "code",
   "execution_count": 21,
   "metadata": {},
   "outputs": [
    {
     "name": "stdout",
     "output_type": "stream",
     "text": [
      "3256\n"
     ]
    }
   ],
   "source": [
    "# Hladanie najsilnejsieho pagu\n",
    "iterator = 0\n",
    "m = max(rank)\n",
    "for x in rank:\n",
    "    iterator = iterator + 1\n",
    "    if x == m:\n",
    "        print(iterator)"
   ]
  },
  {
   "cell_type": "code",
   "execution_count": 22,
   "metadata": {},
   "outputs": [
    {
     "data": {
      "text/plain": [
       "'Všeobecná úverová banka'"
      ]
     },
     "execution_count": 22,
     "metadata": {},
     "output_type": "execute_result"
    }
   ],
   "source": [
    "list[3256]"
   ]
  },
  {
   "cell_type": "code",
   "execution_count": 23,
   "metadata": {},
   "outputs": [
    {
     "data": {
      "text/plain": [
       "1.173844992091675"
      ]
     },
     "execution_count": 23,
     "metadata": {},
     "output_type": "execute_result"
    }
   ],
   "source": [
    "#Hodnota page ranku najsilnejsej stranky \n",
    "rank[3256]*len(list)"
   ]
  },
  {
   "cell_type": "code",
   "execution_count": 24,
   "metadata": {},
   "outputs": [
    {
     "data": {
      "text/plain": [
       "714752"
      ]
     },
     "execution_count": 24,
     "metadata": {},
     "output_type": "execute_result"
    }
   ],
   "source": [
    "len(links)"
   ]
  },
  {
   "cell_type": "code",
   "execution_count": 25,
   "metadata": {},
   "outputs": [
    {
     "name": "stdout",
     "output_type": "stream",
     "text": [
      "[[     1      0]\n",
      " [    19  66563]\n",
      " [    65   1484]\n",
      " ...\n",
      " [417903 417902]\n",
      " [417905  78576]\n",
      " [417906 417904]]\n"
     ]
    }
   ],
   "source": [
    "print(list2)"
   ]
  },
  {
   "cell_type": "code",
   "execution_count": 26,
   "metadata": {},
   "outputs": [
    {
     "name": "stdout",
     "output_type": "stream",
     "text": [
      "Done:  100000\n",
      "Done:  200000\n",
      "Done:  300000\n",
      "Done:  400000\n"
     ]
    }
   ],
   "source": [
    "# Vytvorenie indexov na vyhladavanie pomocou Whoosh\n",
    "from whoosh.index import create_in\n",
    "from whoosh.fields import *\n",
    "import os\n",
    "schema = Schema(title=TEXT(stored=True), xrank=NUMERIC(stored=True))\n",
    "\n",
    "if not os.path.exists(\"whoosh\"):\n",
    "    os.mkdir(\"whoosh\")\n",
    "ix = create_in(\"whoosh\", schema)\n",
    "writer = ix.writer()\n",
    "iterator = 0\n",
    "adjuster = len(list)\n",
    "for x in list:\n",
    "    writer.add_document(title=x, xrank=rank[iterator]*adjuster)\n",
    "    iterator = iterator + 1\n",
    "    if (iterator % 100000 == 0):\n",
    "        print(\"Done: \", iterator)\n",
    "writer.commit()"
   ]
  },
  {
   "cell_type": "code",
   "execution_count": 37,
   "metadata": {},
   "outputs": [
    {
     "name": "stdout",
     "output_type": "stream",
     "text": [
      "<Hit {'title': 'Všeobecná úverová banka', 'xrank': 1.173844992091675}>\n"
     ]
    }
   ],
   "source": [
    "# Query vyhladavanie\n",
    "from whoosh.qparser import QueryParser\n",
    "\n",
    "query = QueryParser(\"title\", ix.schema).parse(\"Všeobecná banka\")\n",
    "\n",
    "with ix.searcher() as searcher:\n",
    "    results = searcher.search(query)\n",
    "    for result in results:\n",
    "        print(result)"
   ]
  },
  {
   "cell_type": "code",
   "execution_count": 38,
   "metadata": {},
   "outputs": [
    {
     "data": {
      "text/plain": [
       "<Top 1 Results for And([Term('title', 'všeobecná'), Term('title', 'banka')]) runtime=0.0009315999998307234>"
      ]
     },
     "execution_count": 38,
     "metadata": {},
     "output_type": "execute_result"
    }
   ],
   "source": [
    "results"
   ]
  },
  {
   "cell_type": "code",
   "execution_count": 39,
   "metadata": {},
   "outputs": [],
   "source": [
    "def hladaj(string):\n",
    "    query = QueryParser(\"title\", ix.schema).parse(string)\n",
    "    with ix.searcher() as searcher:\n",
    "        results = searcher.search(query)\n",
    "        for result in results:\n",
    "            print(result)"
   ]
  },
  {
   "cell_type": "code",
   "execution_count": 40,
   "metadata": {},
   "outputs": [
    {
     "name": "stdout",
     "output_type": "stream",
     "text": [
      "<Hit {'title': 'Bratislava', 'xrank': 3.7611237441780485}>\n",
      "<Hit {'title': 'Bratislava I', 'xrank': 0.43462249149556814}>\n",
      "<Hit {'title': 'Bratislava V', 'xrank': 0.43462249149556814}>\n",
      "<Hit {'title': 'Bratislava 5', 'xrank': 0.43462249149556814}>\n",
      "<Hit {'title': 'Bratislava V.', 'xrank': 0.43462249149556814}>\n",
      "<Hit {'title': 'Bratislava 1', 'xrank': 0.43462249149556814}>\n",
      "<Hit {'title': 'Bratislava 2', 'xrank': 0.43462249149556814}>\n",
      "<Hit {'title': 'Bratislava 3', 'xrank': 0.43462249149556814}>\n",
      "<Hit {'title': 'Bratislava 4', 'xrank': 0.43462249149556814}>\n",
      "<Hit {'title': 'Kategória:Bratislava', 'xrank': 15.863180312797699}>\n"
     ]
    }
   ],
   "source": [
    "hladaj(\"Bratislava\")"
   ]
  },
  {
   "cell_type": "code",
   "execution_count": null,
   "metadata": {},
   "outputs": [],
   "source": []
  }
 ],
 "metadata": {
  "kernelspec": {
   "display_name": "Python 3",
   "language": "python",
   "name": "python3"
  },
  "language_info": {
   "codemirror_mode": {
    "name": "ipython",
    "version": 3
   },
   "file_extension": ".py",
   "mimetype": "text/x-python",
   "name": "python",
   "nbconvert_exporter": "python",
   "pygments_lexer": "ipython3",
   "version": "3.7.3"
  }
 },
 "nbformat": 4,
 "nbformat_minor": 2
}
