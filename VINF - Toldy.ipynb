{
 "cells": [
  {
   "cell_type": "code",
   "execution_count": 1,
   "metadata": {},
   "outputs": [],
   "source": [
    "# Riesenie Kristian Toldy, Predmet: Vyhladavanie Informacii FIIT STU"
   ]
  },
  {
   "cell_type": "code",
   "execution_count": 68,
   "metadata": {},
   "outputs": [],
   "source": [
    "# Vypocet PageRanku\n",
    "import scipy as sp\n",
    "import scipy.sparse as sprs\n",
    "import scipy.spatial\n",
    "import scipy.sparse.linalg\n",
    "from scipy import sparse\n",
    "\n",
    "# Vstupy:\n",
    "# G - CSR graph linkov\n",
    "# D - Damping factor\n",
    "# max_iter - maximalny pocet iteracii\n",
    "# tolerancy -  Tolerianca ked uz convergujeme aby ukoncilo vykonavanie\n",
    "def pagerank(G, D, max_iter, tolerancy=1e-12):\n",
    "   \n",
    "\n",
    "    # n pocet prvkov v grafe\n",
    "    n, _ = G.shape\n",
    "    # Spocita pocet outgoing linkov z pagy v nasej CSR matici (pre kazdy riadok)\n",
    "    outgoing = sp.asarray(G.sum(axis=1)).reshape(-1)\n",
    "    # indexes - indexy ktore su nenulove, teda maju outgoing link\n",
    "    indexes = outgoing.nonzero()[0]\n",
    "    # Nova matica kde vydelim hodnotu outgoing linkov poctom linkov (cim viac tim mensi zasah ma stranka)\n",
    "    impact_csr = sprs.csr_matrix((1 / outgoing[indexes], (indexes, indexes)), shape=(n, n))\n",
    "\n",
    "    # Vytvorenie jednotkoveho vektora\n",
    "    ones = sp.ones(n) \n",
    "    ones = ones.reshape(n, 1)\n",
    "    \n",
    "    # a[np.newaxis, :] - > Pridanie dimenzie\n",
    "    # Riesenie dangling nodes (nemaju ziadne outgoing, \n",
    "    # inicializujeme tie co nemaju ziadne outgoing linky na (1-dump)/n a tie co maju maju dump/n\n",
    "    # Teoria - > ked neexistuje outgoing, tak mame nahodnu sancu otvorit akukolvek inu stranku (- dump)\n",
    "    jumps = (((1 - D) * (outgoing != 0) + (outgoing == 0)) / n)[sp.newaxis, :]\n",
    "    \n",
    "    # A.T otoci smer ukazovania, pojdeme po linkoch namiesto po pagoch\n",
    "    # W vypocita silu hrany (V podstate )\n",
    "    W = D * G.T @ impact_csr\n",
    "    \n",
    "    # X pole page rankov (Na zaciatok vsetky jedna)\n",
    "    x = ones\n",
    "    # oldX v predchadzajucej iteracii pagerank, na zaciatok same nuly\n",
    "    oldx = sp.zeros((n, 1))\n",
    "    \n",
    "    iteration = 0\n",
    "\n",
    "    while sp.linalg.norm(x - oldx) > tolerancy:\n",
    "        oldx = x\n",
    "        # Vypocet noveho pageranku pre vsetky page \n",
    "        x = W @ x + ones @ (jumps @ x)\n",
    "        iteration += 1\n",
    "        if iteration >= max_iter:\n",
    "            break\n",
    "    x = x / sum(x)\n",
    "\n",
    "    return x.reshape(-1)"
   ]
  },
  {
   "cell_type": "code",
   "execution_count": 85,
   "metadata": {},
   "outputs": [],
   "source": [
    "import xml.sax\n",
    "import re\n",
    "\n",
    "# Regex pattern zakladne linky\n",
    "#pattern = \"\\[\\[(.*)\\]\\]\"\n",
    "pattern = \"\\[\\[([^]]*)\\]\\]\"\n",
    "\n",
    "# Streamovy parser XML dat\n",
    "class XMLHandler(xml.sax.ContentHandler):\n",
    "    def __init__(self):\n",
    "        self.CurrentData = \"\"\n",
    "        self.title = \"\"\n",
    "        self.id = \"\"\n",
    "        self.text = \"\"\n",
    "        \n",
    "        \n",
    "    def startElement(self, tag, attributes):\n",
    "        self.CurrentData = tag\n",
    "            \n",
    "    def endElement(self, tag):\n",
    "        #Vyskušame vždy pridať novú pagu do nášho dictionary (HashMapa)\n",
    "        if self.CurrentData == \"title\":\n",
    "            try:\n",
    "                if dict[self.title]:\n",
    "                    print(\"Duplicate found:\", self.title)\n",
    "            except KeyError:\n",
    "                dict[self.title] = len(dict)\n",
    "                list.append(self.title)\n",
    "#        elif self.CurrentData == \"text\":\n",
    "#            print(\"text: \", self.text)\n",
    "#        elif self.CurrentData == \"text\":\n",
    "#            if(re.search(pattern, self.text)):\n",
    "#                links.append(self.title)\n",
    "#                links.append(re.search(pattern, self.text).group(1))\n",
    "                #print(\"Link: \", re.search(pattern, self.text).group(1))\n",
    "                \n",
    "            \n",
    "        self.CurrentData = \"\"\n",
    "        \n",
    "    def characters(self, content):\n",
    "        if self.CurrentData == \"title\":\n",
    "            self.title = content\n",
    "        elif self.CurrentData == \"id\":\n",
    "            self.id = content\n",
    "        elif self.CurrentData == \"text\":\n",
    "            self.text = content\n",
    "            if(re.search(pattern, self.text)):\n",
    "                links.append(self.title)\n",
    "                links.append(re.search(pattern, self.text).group(1))\n",
    "        \n",
    "if (__name__ == \"__main__\"):\n",
    "    list = []  # < - Obsahuje zoznam pagov\n",
    "    links = [] # < - Obsahuje zoznam linkov vo formate x, x+1 kde je title page1 ukazujucu na page2\n",
    "    dict = {} # < - Hash mapa na rýchle nájdenie IDcka stranky podla title\n",
    "    \n",
    "    parser = xml.sax.make_parser()\n",
    "    parser.setFeature(xml.sax.handler.feature_namespaces, 0)\n",
    "    Handler = XMLHandler()\n",
    "    parser.setContentHandler(Handler) "
   ]
  },
  {
   "cell_type": "code",
   "execution_count": 70,
   "metadata": {},
   "outputs": [
    {
     "name": "stdout",
     "output_type": "stream",
     "text": [
      "['MediaWiki:Developertitle', 'MediaWiki:Newmessages', 'MediaWiki:Developertitle', 'MediaWiki:Newmessages3', 'MediaWiki:Developertext', 'MediaWiki:Commentedit', 'MediaWiki:Searchresulttext', 'Pomoc:Vyhľadávanie2', 'MediaWiki:Searchresulttext', 'Pomoc:Vyhľadávanie']\n"
     ]
    }
   ],
   "source": [
    "# Na mensej vzorke dat:\n",
    "# 10 pageov,\n",
    "# 1 validny link na ine page, 1 bez landingu\n",
    "parser.parse(\"C:/Users/krist/Desktop/Fiit/Vyhladavanie informacii/Testovanie/wiki2.xml\")\n",
    "print(links)"
   ]
  },
  {
   "cell_type": "code",
   "execution_count": 71,
   "metadata": {},
   "outputs": [
    {
     "name": "stdout",
     "output_type": "stream",
     "text": [
      "Link nenajdeny: 0\n",
      "Link nenajdeny: 9\n",
      "Link nenajdeny: 9\n",
      "[[0 3]\n",
      " [1 6]]\n"
     ]
    }
   ],
   "source": [
    "# Vygenerovanie numpy arrayu linkov kde menime link title na ID\n",
    "import numpy as np\n",
    "\n",
    "\n",
    "\n",
    "list2 = np.empty((0,2), int)\n",
    "for x in range(0, len(links),2):\n",
    "    try:\n",
    "        list2 = np.append(list2, np.array([[dict[links[x]], dict[links[x+1]]]]), axis=0)\n",
    "    except KeyError:\n",
    "        print(\"Link nenajdeny:\", dict[links[x]]) # < - Ak pagu nepozname na ktorú ukazuje dá nám chybu a v ktorej page sa chyba vyskytla\n",
    "\n",
    "print(list2)"
   ]
  },
  {
   "cell_type": "code",
   "execution_count": 72,
   "metadata": {},
   "outputs": [
    {
     "data": {
      "text/plain": [
       "array([0.08547009, 0.08547009, 0.08547009, 0.15811966, 0.08547009,\n",
       "       0.08547009, 0.15811966, 0.08547009, 0.08547009, 0.08547009])"
      ]
     },
     "execution_count": 72,
     "metadata": {},
     "output_type": "execute_result"
    }
   ],
   "source": [
    "weights = [1] * len(list2)\n",
    "G = sparse.csr_matrix((weights, (list2[:,0], list2[:,1])), shape=(len(list), len(list)))\n",
    "rank=pagerank(G, D=0.85, max_iter=10)\n",
    "rank"
   ]
  },
  {
   "cell_type": "code",
   "execution_count": 73,
   "metadata": {},
   "outputs": [
    {
     "name": "stdout",
     "output_type": "stream",
     "text": [
      "Duplicate found:  City Line\n",
      "Duplicate found: B\n",
      "Duplicate found: Y\n",
      "Duplicate found: M\n",
      "Duplicate found: T\n",
      "Duplicate found:  Koch\n",
      "Duplicate found:  Conquer\n",
      "Duplicate found: W\n",
      "Duplicate found: \"\n",
      "Duplicate found: \"\n",
      "Duplicate found: \"\n",
      "Duplicate found:  The Stooges\n",
      "Duplicate found: Boca Juniors\n",
      "Duplicate found: M\n",
      "Duplicate found:  Bass\n",
      "Duplicate found:  Coach\n",
      "Duplicate found:  Bass\n",
      "Duplicate found:  Bass\n",
      "Duplicate found: 1966\n",
      "Duplicate found: \"\n",
      "Duplicate found:  Breeze\n",
      "Duplicate found:  Status\n",
      "Duplicate found:  Koch\n",
      "Duplicate found:  Status\n",
      "Duplicate found: \"\n",
      "Duplicate found:  the Banshees\n",
      "Duplicate found:  the Banshees\n",
      "Duplicate found: \"\n",
      "Duplicate found: \"\n",
      "Duplicate found: T\n",
      "Duplicate found:  Klement\n",
      "Duplicate found: \"\n",
      "Duplicate found:  Bassline Smith\n",
      "Duplicate found: B\n",
      "Duplicate found: B\n",
      "Duplicate found:  Futurebound\n",
      "Duplicate found:  Evans\n",
      "Duplicate found:  Status\n",
      "Duplicate found:  Spoon\n",
      "Duplicate found:  Krooked\n",
      "Duplicate found:  Co Beschläge\n",
      "Duplicate found:  KOS\n",
      "Duplicate found:  Years\n",
      "Duplicate found: T\n",
      "Duplicate found: John\n",
      "Duplicate found: T\n",
      "Duplicate found:  T\n",
      "Duplicate found: M\n",
      "Duplicate found: Čadca\n",
      "Duplicate found: ka\n",
      "Duplicate found:  the Papas\n",
      "Duplicate found: 4\n",
      "Duplicate found:  Sons\n",
      "Duplicate found:  Stimpy Show\n",
      "Duplicate found: B speváci\n",
      "Duplicate found: B hudobníci\n",
      "Duplicate found: B hudobníci\n",
      "Duplicate found: B speváci\n",
      "Duplicate found: B speváci\n",
      "Duplicate found: B hudobníci\n",
      "Duplicate found: B speváci\n",
      "Duplicate found: B hudobníci\n",
      "Duplicate found: B speváčky\n",
      "Duplicate found: B speváčky\n",
      "Duplicate found: B speváci\n",
      "Duplicate found: B hudobníci\n",
      "Duplicate found: B klaviristi\n",
      "Duplicate found: B speváčky\n",
      "Duplicate found: B speváci\n",
      "Duplicate found: B hudobníci\n",
      "Duplicate found: B speváčky\n",
      "Duplicate found: B speváci\n",
      "Duplicate found: B hudobníci\n",
      "Duplicate found: B speváčky\n",
      "Duplicate found: B speváci\n",
      "Duplicate found: B hudobníci\n",
      "Duplicate found: B speváčky\n",
      "Duplicate found: B speváčky\n",
      "Duplicate found: B klávesisti\n",
      "Duplicate found: B klávesisti\n",
      "Duplicate found: B gitaristi\n",
      "Duplicate found: B gitaristi\n",
      "Duplicate found: B speváčky\n",
      "Duplicate found: B speváci\n",
      "Duplicate found: B hudobníci\n",
      "Duplicate found: B speváci\n",
      "Duplicate found: B hudobníci\n",
      "Duplicate found: B gitaristi\n",
      "Duplicate found: B klávesisti\n",
      "Duplicate found: B bubeníci\n",
      "Duplicate found: B bubeníci\n",
      "Duplicate found: B speváčky\n",
      "Duplicate found: B gitaristi\n",
      "Duplicate found: B speváčky\n",
      "Duplicate found: B speváci\n",
      "Duplicate found: B hudobníci\n",
      "Duplicate found: B speváci\n",
      "Duplicate found: B hudobníci\n",
      "Duplicate found:  Barbara\n",
      "Duplicate found:  Vinz\n",
      "Duplicate found:  the Gang)\n",
      "Duplicate found:  the Gang\n",
      "Duplicate found:  Fire\n",
      "Duplicate found:  Oates\n",
      "Duplicate found: B album\n",
      "Duplicate found: Evita\n",
      "Duplicate found: B hudobné skupiny\n",
      "Duplicate found:  Dragons\n",
      "Duplicate found: M University\n",
      "Duplicate found: M University\n",
      "Duplicate found:  Co\n",
      "Duplicate found: D\n",
      "Duplicate found:  Sons\n",
      "Duplicate found: 3\n",
      "Start: 2020-12-08 04:00:08.545024\n",
      "[[     1      0]\n",
      " [    19  66563]\n",
      " [    32 202563]\n",
      " ...\n",
      " [417910  16778]\n",
      " [417911 417912]\n",
      " [417912   5549]]\n",
      "Koniec: 2020-12-08 07:00:54.530752\n"
     ]
    }
   ],
   "source": [
    "# Vygenerovanie numpy arrayu linkov kde menime link title na ID\n",
    "import numpy as np\n",
    "from datetime import datetime\n",
    "\n",
    "# Sem vlozte vas XML subor\n",
    "list = []\n",
    "links = []\n",
    "dict = {}\n",
    "parser.parse(\"C:/Users/krist/Desktop/Fiit/Vyhladavanie informacii/Testovanie/wiki.xml\")\n",
    "\n",
    "dateTimeObj = datetime.now()\n",
    "print(\"Start:\", dateTimeObj)\n",
    "\n",
    "list2 = np.empty((0,2), int)\n",
    "for x in range(0, len(links),2):\n",
    "    try:\n",
    "        list2 = np.append(list2, np.array([[dict[links[x]], dict[links[x+1]]]]), axis=0)\n",
    "    except KeyError:\n",
    "        pass\n",
    "        # Schovame vypis error duplikatov lebo vypis dlho trva\n",
    "        #print(\"Link nenajdeny:\", dict[links[x]]) # < - Ak pagu nepozname na ktorú ukazuje dá nám chybu a v ktorej page sa chyba vyskytla\n",
    "\n",
    "print(list2)\n",
    "dateTimeObj = datetime.now()\n",
    "print(\"Koniec:\", dateTimeObj)"
   ]
  },
  {
   "cell_type": "code",
   "execution_count": 74,
   "metadata": {},
   "outputs": [
    {
     "data": {
      "text/plain": [
       "array([3.76139033e-06, 6.02347948e-07, 6.02347948e-07, ...,\n",
       "       3.34337136e-06, 3.41572678e-06, 3.50571571e-06])"
      ]
     },
     "execution_count": 74,
     "metadata": {},
     "output_type": "execute_result"
    }
   ],
   "source": [
    "from scipy import sparse\n",
    "\n",
    "# List jednotiek, su to nase vahy linkov, vsetky maju rovnaku silu\n",
    "weights = [1] * len(list2)\n",
    "# csr_matrix((data, (row_ind, col_ind)), [shape=(M, N)])\n",
    "# where data, row_ind and col_ind satisfy the relationship a[row_ind[k], col_ind[k]] = data[k]\n",
    "# Shape musí obsahovať aj stranky bez odkazov, Len(list_stranok)\n",
    "G = sparse.csr_matrix((weights, (list2[:,0], list2[:,1])), shape=(len(list), len(list)))\n",
    "rank=pagerank(G, D=0.85, max_iter=100)\n",
    "rank"
   ]
  },
  {
   "cell_type": "code",
   "execution_count": 76,
   "metadata": {},
   "outputs": [
    {
     "name": "stdout",
     "output_type": "stream",
     "text": [
      "3255\n"
     ]
    }
   ],
   "source": [
    "# Hladanie najsilnejsieho pagu\n",
    "iterator = 0\n",
    "m = max(rank)\n",
    "for x in rank:\n",
    "    if x == m:\n",
    "        print(iterator)\n",
    "    iterator = iterator + 1\n",
    "    "
   ]
  },
  {
   "cell_type": "code",
   "execution_count": 78,
   "metadata": {},
   "outputs": [
    {
     "name": "stdout",
     "output_type": "stream",
     "text": [
      "102\n",
      "Kategória:Veda Iterator:  2805 page rank:  3194.018713580643\n",
      "Kategória:Prírodné vedy Iterator:  2812 page rank:  1557.103980663861\n",
      "Kategória:Základné kategórie Iterator:  3255 page rank:  5438.5904326784\n",
      "Kategória:Človek Iterator:  4331 page rank:  2287.307141933284\n",
      "Kategória:Spoločenské vedy Iterator:  4707 page rank:  1174.1580011899432\n",
      "Kategória:Politika Iterator:  4734 page rank:  1051.5772348788757\n",
      "Kategória:Medzinárodné organizácie Iterator:  4853 page rank:  1761.5751224002486\n",
      "Kategória:OSN Iterator:  6688 page rank:  1231.578076448305\n",
      "Kategória:Spoločnosť Iterator:  45962 page rank:  1610.2837994464153\n",
      "Kategória:Členovia OSN Iterator:  89905 page rank:  1432.9782664993152\n",
      "Kategória:Regióny vo Francúzsku Iterator:  218554 page rank:  1932.9338653889895\n",
      "buck1:  381836\n",
      "buck2:  36066\n",
      "buck3:  11\n"
     ]
    }
   ],
   "source": [
    "iterator = 0\n",
    "buck1 = 0 #0-1\n",
    "buck2 = 0 #1-10\n",
    "buck3 = 0 #10-X\n",
    "for x in list:\n",
    "    if x == 'Bratislava':\n",
    "        print(iterator)\n",
    "    if rank[iterator]*len(list) < 1:\n",
    "        buck1 = buck1 + 1\n",
    "    elif rank[iterator]*len(list) < 1000:\n",
    "        buck2 = buck2 + 1\n",
    "    else:\n",
    "        buck3 = buck3 + 1\n",
    "        print(x, 'Iterator: ', iterator, 'page rank: ', rank[iterator]*len(list))\n",
    "    iterator = iterator + 1\n",
    "print('buck1: ', buck1)\n",
    "print('buck2: ', buck2)\n",
    "print('buck3: ', buck3)"
   ]
  },
  {
   "cell_type": "code",
   "execution_count": 79,
   "metadata": {},
   "outputs": [
    {
     "name": "stdout",
     "output_type": "stream",
     "text": [
      "Done:  100000\n",
      "Done:  200000\n",
      "Done:  300000\n",
      "Done:  400000\n"
     ]
    }
   ],
   "source": [
    "# Vytvorenie indexov na vyhladavanie pomocou Whoosh\n",
    "from whoosh.index import create_in\n",
    "from whoosh.fields import *\n",
    "import os\n",
    "schema = Schema(title=TEXT(stored=True), xrank=NUMERIC(stored=True))\n",
    "\n",
    "if not os.path.exists(\"whoosh\"):\n",
    "    os.mkdir(\"whoosh\")\n",
    "ix = create_in(\"whoosh\", schema)\n",
    "writer = ix.writer()\n",
    "iterator = 0\n",
    "adjuster = len(list)\n",
    "for x in list:\n",
    "    writer.add_document(title=x, xrank=rank[iterator]*adjuster)\n",
    "    iterator = iterator + 1\n",
    "    if (iterator % 100000 == 0):\n",
    "        print(\"Done: \", iterator)\n",
    "writer.commit()"
   ]
  },
  {
   "cell_type": "code",
   "execution_count": 80,
   "metadata": {},
   "outputs": [
    {
     "name": "stdout",
     "output_type": "stream",
     "text": [
      "<Hit {'title': 'Všeobecná úverová banka', 'xrank': 1.4022221047542864}>\n"
     ]
    }
   ],
   "source": [
    "# Query vyhladavanie\n",
    "from whoosh.qparser import QueryParser\n",
    "\n",
    "query = QueryParser(\"title\", ix.schema).parse(\"Všeobecná banka\")\n",
    "\n",
    "with ix.searcher() as searcher:\n",
    "    results = searcher.search(query)\n",
    "    for result in results:\n",
    "        print(result)"
   ]
  },
  {
   "cell_type": "code",
   "execution_count": 81,
   "metadata": {},
   "outputs": [
    {
     "data": {
      "text/plain": [
       "<Top 1 Results for And([Term('title', 'všeobecná'), Term('title', 'banka')]) runtime=0.0023809999984223396>"
      ]
     },
     "execution_count": 81,
     "metadata": {},
     "output_type": "execute_result"
    }
   ],
   "source": [
    "results"
   ]
  },
  {
   "cell_type": "code",
   "execution_count": 82,
   "metadata": {},
   "outputs": [],
   "source": [
    "def hladaj(string):\n",
    "    query = QueryParser(\"title\", ix.schema).parse(string)\n",
    "    with ix.searcher() as searcher:\n",
    "        results = searcher.search(query)\n",
    "        for result in results:\n",
    "            print(result)"
   ]
  },
  {
   "cell_type": "code",
   "execution_count": 87,
   "metadata": {},
   "outputs": [
    {
     "name": "stdout",
     "output_type": "stream",
     "text": [
      "<Hit {'title': 'Bratislava', 'xrank': 230.3761363438216}>\n",
      "<Hit {'title': 'Bratislava I', 'xrank': 3.4979775623666143}>\n",
      "<Hit {'title': 'Bratislava V', 'xrank': 0.25949710296941325}>\n",
      "<Hit {'title': 'Bratislava 5', 'xrank': 0.2517290380350724}>\n",
      "<Hit {'title': 'Bratislava V.', 'xrank': 0.2517290380350724}>\n",
      "<Hit {'title': 'Bratislava 1', 'xrank': 5.979789516201203}>\n",
      "<Hit {'title': 'Bratislava 2', 'xrank': 2.8612652080542715}>\n",
      "<Hit {'title': 'Bratislava 3', 'xrank': 1.041515768509582}>\n",
      "<Hit {'title': 'Bratislava 4', 'xrank': 0.5127692708545895}>\n",
      "<Hit {'title': 'Kategória:Bratislava', 'xrank': 194.31304676515282}>\n"
     ]
    }
   ],
   "source": [
    "hladaj(\"Bratislava\")"
   ]
  },
  {
   "cell_type": "code",
   "execution_count": 98,
   "metadata": {},
   "outputs": [
    {
     "data": {
      "image/png": "[encoded data removed]",
      "text/plain": [
       "<Figure size 432x288 with 1 Axes>"
      ]
     },
     "metadata": {
      "needs_background": "light"
     },
     "output_type": "display_data"
    }
   ],
   "source": [
    "import matplotlib.pyplot as plt\n",
    "fig = plt.figure()\n",
    "ax = fig.add_axes([0,0,1,1])\n",
    "bins = ['0-1', '1-1000', '1000>']\n",
    "values = [buck1, buck2, buck3]\n",
    "ax.bar(bins,values)\n",
    "ax.set_ylabel('Pocet Stranok')\n",
    "ax.set_xlabel('PageRank')\n",
    "ax.set_title('Histogram stranok')\n",
    "plt.show()"
   ]
  }
 ],
 "metadata": {
  "kernelspec": {
   "display_name": "Python 3",
   "language": "python",
   "name": "python3"
  },
  "language_info": {
   "codemirror_mode": {
    "name": "ipython",
    "version": 3
   },
   "file_extension": ".py",
   "mimetype": "text/x-python",
   "name": "python",
   "nbconvert_exporter": "python",
   "pygments_lexer": "ipython3",
   "version": "3.7.3"
  }
 },
 "nbformat": 4,
 "nbformat_minor": 2
}
